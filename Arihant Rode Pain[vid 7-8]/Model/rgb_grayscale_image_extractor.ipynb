{
 "cells": [
  {
   "cell_type": "markdown",
   "id": "intermediate-mission",
   "metadata": {},
   "source": [
    "## Importing Requried libraries\n",
    "\n",
    "- **OpenCv(cv2) for extracting frames from the videos.**\n",
    "- **Os for handling file operations like saving files.**"
   ]
  },
  {
   "cell_type": "code",
   "execution_count": 1,
   "id": "solved-market",
   "metadata": {},
   "outputs": [],
   "source": [
    "import cv2\n",
    "import os"
   ]
  },
  {
   "cell_type": "markdown",
   "id": "given-inside",
   "metadata": {},
   "source": [
    "## Creating Function for extracting RGB Images and then Convert them into Grayscale"
   ]
  },
  {
   "cell_type": "code",
   "execution_count": 2,
   "id": "attractive-sydney",
   "metadata": {},
   "outputs": [],
   "source": [
    "\n",
    "def extractor():\n",
    "    \n",
    "    for filename in os.listdir(\"videos\"):   #os.listdir returns the list of all files present in directory passed to it as argument.\n",
    "        if filename.endswith('.mp4'): #checking whether the file format is correct or not\n",
    "        \n",
    "            cap = cv2.VideoCapture(f'videos/{filename}') #cv2.VideoCapture is used for capturing provided video\n",
    "            i=1 # i and seq are counter \n",
    "            seq=0\n",
    "            extract,_ = filename.split('.mp4') #for naming the images\n",
    "       \n",
    "            while cap.isOpened(): #cap.isOpened() is used for checking whether the video is captured or not\n",
    "\n",
    "                ret,frame = cap.read() # cap.read() reads the frame from the captured video and ret tells whether frame is readed properly or not\n",
    "        \n",
    "                if ret: # if frame readed properly then it will follow further process\n",
    "                \n",
    "                    i=i+1 #counter  increases for counting frames\n",
    "                    \n",
    "                    if i%12==0: # It check mods because ,we have to extract and total frames are 600 per video..\n",
    "                        \n",
    "                        cv2.imwrite(f'extracted/{extract}_{seq}.jpg',frame) #cv2.imwrite() saved the frame to the folder we specified.\n",
    "                        \n",
    "                        grayscale = cv2.cvtColor(frame,cv2.COLOR_BGR2GRAY) # cv2.cvtColor chnages color scheme of image..for that we have to explicitly provide our color choice\n",
    "                                                                           #(Here I provide cv2.COLOR_BGR2GRAY )\n",
    "                        \n",
    "                        cv2.imwrite(f'extracted/{extract}_gray{seq}.jpg',grayscale) #saving grayscale image\n",
    "                        \n",
    "                        \n",
    "                        seq+=1 # this counter is just for naming purpose.\n",
    "            \n",
    "                else: #if frame not read properly then break the flow of code.\n",
    "                    break\n",
    "                    \n",
    "                    "
   ]
  },
  {
   "cell_type": "code",
   "execution_count": null,
   "id": "dimensional-return",
   "metadata": {},
   "outputs": [],
   "source": [
    "extractor() #calling extractor function for extarcting images"
   ]
  }
 ],
 "metadata": {
  "kernelspec": {
   "display_name": "Python 3",
   "language": "python",
   "name": "python3"
  },
  "language_info": {
   "codemirror_mode": {
    "name": "ipython",
    "version": 3
   },
   "file_extension": ".py",
   "mimetype": "text/x-python",
   "name": "python",
   "nbconvert_exporter": "python",
   "pygments_lexer": "ipython3",
   "version": "3.8.8"
  }
 },
 "nbformat": 4,
 "nbformat_minor": 5
}
