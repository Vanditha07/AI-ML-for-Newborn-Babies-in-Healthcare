{
 "cells": [
  {
   "cell_type": "markdown",
   "id": "bf46f5fc-a0f4-4eea-bcfe-06d4659e1861",
   "metadata": {},
   "source": [
    "## Code to Extract 50 RGB and 50 grayscale images from video files "
   ]
  },
  {
   "cell_type": "markdown",
   "id": "eaab67e7-a5a8-4f6a-86c6-f35f5d2b8b8d",
   "metadata": {},
   "source": [
    "### Import the neccessary libraries"
   ]
  },
  {
   "cell_type": "code",
   "execution_count": 1,
   "id": "e062a5a8-df45-46fb-8ac1-c328c0a30a40",
   "metadata": {},
   "outputs": [],
   "source": [
    "import cv2\n",
    "import glob"
   ]
  },
  {
   "cell_type": "markdown",
   "id": "64392c15-f37c-4154-b838-68af124f777d",
   "metadata": {},
   "source": [
    "**Define the paths** "
   ]
  },
  {
   "cell_type": "code",
   "execution_count": null,
   "id": "2b6c547b-9be2-457b-b5ec-6192313cff4f",
   "metadata": {},
   "outputs": [],
   "source": [
    "#Get the path to the video files\n",
    "video_dir = glob.glob('videos/*.mp4')\n",
    "#Define the where to save the images\n",
    "save_path = '../Image Datasets/NO-PAIN_vid'"
   ]
  },
  {
   "cell_type": "code",
   "execution_count": 3,
   "id": "8da77a59-47ef-472e-a746-e9776f8c74d0",
   "metadata": {},
   "outputs": [],
   "source": [
    "n_frames = 50 #number of frames to be extracted\n",
    "vid_no = 37 #video number for naming the images extracted\n",
    "\n",
    "#Iterate over all the video files\n",
    "for video_path in video_dir:\n",
    "    vidcap = cv2.VideoCapture(video_path) #Create the VideoCapture object\n",
    "    total_frames = vidcap.get(cv2.CAP_PROP_FRAME_COUNT) #Get the total number of frames in the video file\n",
    "    step = total_frames//n_frames #Get the step value (number of frames to skip)\n",
    "    \n",
    "    for i in range(n_frames):\n",
    "        vidcap.set(1,i*step) #Sets the index of the next frame to be processed as i*step  \n",
    "        ret,image = vidcap.read() #Reads the next frame as image\n",
    "        \n",
    "        path = save_path+str(vid_no)+'_'+str(i+1)+'.jpg'\n",
    "        path_gray = save_path+str(vid_no)+'_'+str(i+1)+'_gray.jpg'\n",
    "        gray_img = cv2.cvtColor(image, cv2.COLOR_BGR2GRAY) #Converts the image to grayscale\n",
    "        \n",
    "        #Save both images \n",
    "        cv2.imwrite(path,image)\n",
    "        cv2.imwrite(path_gray,gray_img)\n",
    "    vidcap.release()\n",
    "    vid_no+=1\n",
    "cv2.destroyAllWindows()"
   ]
  }
 ],
 "metadata": {
  "kernelspec": {
   "display_name": "Python 3 (ipykernel)",
   "language": "python",
   "name": "python3"
  },
  "language_info": {
   "codemirror_mode": {
    "name": "ipython",
    "version": 3
   },
   "file_extension": ".py",
   "mimetype": "text/x-python",
   "name": "python",
   "nbconvert_exporter": "python",
   "pygments_lexer": "ipython3",
   "version": "3.9.5"
  }
 },
 "nbformat": 4,
 "nbformat_minor": 5
}
